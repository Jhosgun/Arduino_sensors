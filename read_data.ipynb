{
 "cells": [
  {
   "cell_type": "code",
   "execution_count": 1,
   "metadata": {},
   "outputs": [
    {
     "name": "stdout",
     "output_type": "stream",
     "text": [
      "Defaulting to user installation because normal site-packages is not writeable\n",
      "Collecting pyserial\n",
      "  Downloading pyserial-3.5-py2.py3-none-any.whl (90 kB)\n",
      "\u001b[2K     \u001b[90m━━━━━━━━━━━━━━━━━━━━━━━━━━━━━━━━━━━━━━━\u001b[0m \u001b[32m90.6/90.6 KB\u001b[0m \u001b[31m742.2 kB/s\u001b[0m eta \u001b[36m0:00:00\u001b[0ma \u001b[36m0:00:01\u001b[0m\n",
      "\u001b[?25hInstalling collected packages: pyserial\n",
      "Successfully installed pyserial-3.5\n"
     ]
    }
   ],
   "source": [
    "!pip install pyserial"
   ]
  },
  {
   "cell_type": "code",
   "execution_count": 2,
   "metadata": {},
   "outputs": [],
   "source": [
    "import serial\n",
    "import time\n",
    "import threading"
   ]
  },
  {
   "cell_type": "code",
   "execution_count": null,
   "metadata": {},
   "outputs": [
    {
     "name": "stdout",
     "output_type": "stream",
     "text": [
      "Conexión establecida con Arduino 2 en /dev/ttyACM1\n",
      "Arduino 2: 21.00,25.30,662\n",
      "Arduino 2: 20.90,25.50,661\n",
      "Conexión establecida con Arduino 1 en /dev/ttyACM0\n",
      "Arduino 2: 20.90,25.50,662\n",
      "Arduino 2: 20.90,25.60,661\n",
      "Arduino 1: 0,33.20,286\n",
      "Arduino 2: 20.90,25.60,662\n",
      "Arduino 1: 20.00,33.20,286\n",
      "Arduino 2: 20.90,25.50,661\n",
      "Arduino 1: 20.00,33.20,287\n",
      "Arduino 2: 20.90,25.50,662\n",
      "Arduino 1: 20.00,33.20,287\n",
      "Arduino 2: 20.90,25.50,661\n",
      "Arduino 1: 20.00,33.20,287\n",
      "Arduino 2: 20.90,25.50,662\n",
      "Arduino 1: 20.00,33.20,286\n",
      "Arduino 2: 20.90,25.50,661\n",
      "Arduino 1: 20.00,33.20,286\n",
      "Arduino 2: 20.90,25.50,662\n",
      "Arduino 1: 20.00,33.20,286\n",
      "Arduino 2: 20.90,25.50,661\n",
      "Arduino 1: 20.00,33.20,287\n",
      "Arduino 2: 20.90,25.50,662\n",
      "Arduino 1: 20.00,33.20,287\n",
      "Arduino 2: 20.90,25.50,661\n",
      "Arduino 1: 20.00,33.20,287\n",
      "Arduino 2: 20.90,25.50,662\n",
      "Arduino 1: 20.00,33.20,289\n",
      "Arduino 2: 20.90,25.50,661\n",
      "Arduino 1: 20.00,33.20,289\n",
      "Arduino 2: 20.90,25.50,662\n",
      "Arduino 1: 20.00,33.40,289\n",
      "Arduino 2: 20.90,25.50,661\n",
      "Arduino 1: 20.00,33.40,289\n",
      "Arduino 2: 20.90,25.50,662\n",
      "Arduino 1: 20.00,33.40,289\n",
      "Arduino 2: 21.00,25.30,661\n",
      "Arduino 1: 20.00,33.40,289\n",
      "Arduino 2: 21.00,25.30,662\n",
      "Arduino 1: 20.00,33.40,289\n",
      "Arduino 2: 20.90,25.50,661\n",
      "Arduino 1: 20.00,33.40,289\n",
      "Arduino 2: 20.90,25.50,662\n",
      "Arduino 1: 20.00,33.40,289\n",
      "Arduino 2: 20.90,25.50,661\n",
      "Arduino 1: 20.00,33.40,290\n",
      "Arduino 2: 20.90,25.50,662\n",
      "Arduino 1: 20.00,33.40,289\n",
      "Arduino 2: 21.00,25.30,661\n",
      "Arduino 1: 20.00,33.40,289\n",
      "Arduino 2: 21.00,25.30,662\n",
      "Arduino 1: 20.00,33.40,289\n",
      "Arduino 2: 20.90,25.50,661\n",
      "Arduino 1: 20.00,33.40,289\n",
      "Arduino 2: 20.90,25.50,662\n",
      "Arduino 1: 20.00,33.40,288\n",
      "Arduino 2: 20.90,25.50,661\n",
      "Arduino 1: 20.00,33.40,288\n",
      "Arduino 2: 20.90,25.50,662\n"
     ]
    }
   ],
   "source": [
    "# Configuración de los puertos seriales para los dos Arduinos\n",
    "arduino1_port = \"/dev/ttyACM0\"  # Reemplaza con el puerto de tu primer Arduino\n",
    "arduino2_port = \"/dev/ttyACM1\"  # Reemplaza con el puerto de tu segundo Arduino\n",
    "baud_rate = 9600                # Asegúrate de que coincida con Serial.begin en Arduino\n",
    "\n",
    "# Función para leer datos de un Arduino\n",
    "def read_from_arduino(port, name):\n",
    "    try:\n",
    "        ser = serial.Serial(port, baud_rate, timeout=1)\n",
    "        time.sleep(2)  # Esperar a que se inicialice la conexión serial\n",
    "        print(f\"Conexión establecida con {name} en {port}\")\n",
    "\n",
    "        while True:\n",
    "            if ser.in_waiting > 0:\n",
    "                line = ser.readline().decode(\"utf-8\").strip()  # Leer línea y decodificar\n",
    "                print(f\"{name}: {line}\")\n",
    "    except Exception as e:\n",
    "        print(f\"Error en {name} ({port}): {e}\")\n",
    "\n",
    "# Crear hilos para leer datos de ambos Arduinos simultáneamente\n",
    "arduino1_thread = threading.Thread(target=read_from_arduino, args=(arduino1_port, \"Arduino 1\"))\n",
    "arduino2_thread = threading.Thread(target=read_from_arduino, args=(arduino2_port, \"Arduino 2\"))\n",
    "\n",
    "# Iniciar los hilos\n",
    "arduino1_thread.start()\n",
    "arduino2_thread.start()\n"
   ]
  },
  {
   "cell_type": "code",
   "execution_count": null,
   "metadata": {},
   "outputs": [],
   "source": []
  }
 ],
 "metadata": {
  "kernelspec": {
   "display_name": "Python 3",
   "language": "python",
   "name": "python3"
  },
  "language_info": {
   "codemirror_mode": {
    "name": "ipython",
    "version": 3
   },
   "file_extension": ".py",
   "mimetype": "text/x-python",
   "name": "python",
   "nbconvert_exporter": "python",
   "pygments_lexer": "ipython3",
   "version": "3.10.12"
  }
 },
 "nbformat": 4,
 "nbformat_minor": 2
}
